{
 "cells": [
  {
   "cell_type": "markdown",
   "metadata": {},
   "source": [
    "One a high level, logistic regression is a method by which we can calculate the probability that an input belongs to one of the target classes."
   ]
  },
  {
   "cell_type": "markdown",
   "metadata": {},
   "source": [
    "We will build the logistic regression model in four phases:\n",
    "- **inference**: (or predict) which produces a probability distribution over the output classes given a minibatch\n",
    "- **loss**: which computes the value of the error function (in this case, the cross entropy loss)\n",
    "- **training**: which is responsible for computing the gradients of the model's parameters and updating the model\n",
    "- **evaluate**: which will determine the effectiveness of a model"
   ]
  },
  {
   "cell_type": "code",
   "execution_count": 12,
   "metadata": {
    "collapsed": true
   },
   "outputs": [],
   "source": [
    "import tensorflow as tf"
   ]
  },
  {
   "cell_type": "code",
   "execution_count": 16,
   "metadata": {
    "collapsed": false
   },
   "outputs": [
    {
     "name": "stdout",
     "output_type": "stream",
     "text": [
      "Successfully downloaded train-images-idx3-ubyte.gz 9912422 bytes.\n",
      "Extracting MNIST_data/train-images-idx3-ubyte.gz\n",
      "Successfully downloaded train-labels-idx1-ubyte.gz 28881 bytes.\n",
      "Extracting MNIST_data/train-labels-idx1-ubyte.gz\n",
      "Successfully downloaded t10k-images-idx3-ubyte.gz 1648877 bytes.\n",
      "Extracting MNIST_data/t10k-images-idx3-ubyte.gz\n",
      "Successfully downloaded t10k-labels-idx1-ubyte.gz 4542 bytes.\n",
      "Extracting MNIST_data/t10k-labels-idx1-ubyte.gz\n"
     ]
    }
   ],
   "source": [
    "from tensorflow.examples.tutorials.mnist import input_data\n",
    "mnist = input_data.read_data_sets(\"MNIST_data/\", one_hot=True)"
   ]
  },
  {
   "cell_type": "code",
   "execution_count": 1,
   "metadata": {
    "collapsed": true
   },
   "outputs": [],
   "source": [
    "def inference(x):\n",
    "    init = tf.constant_initializer(value=0)\n",
    "    W = tf.get_variable('W', [784, 10], initializer=init)\n",
    "    b = tf.get_variable('b', [10], initializer=init)\n",
    "    \n",
    "    output = tf.nn.softmax(tf.matmul(x, W) + b)\n",
    "    \n",
    "    return output\n",
    "    "
   ]
  },
  {
   "cell_type": "code",
   "execution_count": 2,
   "metadata": {
    "collapsed": true
   },
   "outputs": [],
   "source": [
    "def loss(output, y):\n",
    "    dot_product = - y * tf.log(output) # output: (batch_size, class_size)\n",
    "    loss = tf.reduce_mean(tf.reduce_sum(dot_product, reduction_indices=1))\n",
    "    return loss"
   ]
  },
  {
   "cell_type": "markdown",
   "metadata": {},
   "source": [
    "TensorFlow makes training easy by giving us access to built-in optimizers that produce a special train operation that we can run via a TensorFlow session when we minimize them. Note that when we create the training operation, we also pass in a variable that represents the number of minibatches that has been processed. Each time the training operation is run, this step variable is incremented so that we can keep track of progress."
   ]
  },
  {
   "cell_type": "code",
   "execution_count": 6,
   "metadata": {
    "collapsed": true
   },
   "outputs": [],
   "source": [
    "def train(cost, global_step):\n",
    "    optimizer = tf.train.GradientDescentOptimizer(learning_rate)\n",
    "    train_op = optimizer.minimize(cost, global_step=global_step)\n",
    "    return train_op"
   ]
  },
  {
   "cell_type": "code",
   "execution_count": 10,
   "metadata": {
    "collapsed": true
   },
   "outputs": [],
   "source": [
    "def evaluate(output, y):\n",
    "    correct_prediction = tf.equal(tf.argmax(output,1), tf.argmax(y,1))\n",
    "    accuracy = tf.reduce_mean(tf.cast(correct_prediction, tf.float32))\n",
    "    return accuracy"
   ]
  },
  {
   "cell_type": "markdown",
   "metadata": {},
   "source": [
    "We log several summary statistics. For example, we use the *tf.scalar_summary* and *tf.histogram_summary* commands to log the cost for each minibatch, validation error, and the distribution of parameters."
   ]
  },
  {
   "cell_type": "code",
   "execution_count": 7,
   "metadata": {
    "collapsed": true
   },
   "outputs": [],
   "source": [
    "def training(cost, global_step):\n",
    "    tf.scalar_summary(\"cost\",cost)\n",
    "    optimizer = tf.train.GradientDescentOptimizer(learning_rate)\n",
    "    train_op = optimizer.minimize(cost, global_step=global_step)\n",
    "    return train_op"
   ]
  },
  {
   "cell_type": "markdown",
   "metadata": {},
   "source": [
    "Every epoch, we run the *tf.merge_all_summaries* in order to collect all summary statistics we've logged and use *tf.train.SummaryWriter* to write the log to disk. We'll also describe how we can visualize these logs with the built-in TensorBoard tool.\n",
    "\n",
    "In addition to saving summary statistics, we also have the model parameters using the *tf.train.Saver* model saver. "
   ]
  },
  {
   "cell_type": "code",
   "execution_count": 5,
   "metadata": {
    "collapsed": true
   },
   "outputs": [],
   "source": [
    "learning_rate = 0.01\n",
    "train_epochs = 1000\n",
    "batch_size = 100\n",
    "display_step = 1"
   ]
  },
  {
   "cell_type": "code",
   "execution_count": null,
   "metadata": {
    "collapsed": false
   },
   "outputs": [
    {
     "name": "stderr",
     "output_type": "stream",
     "text": [
      "WARNING:tensorflow:Passing a `GraphDef` to the SummaryWriter is deprecated. Pass a `Graph` object instead, such as `sess.graph`.\n"
     ]
    },
    {
     "name": "stdout",
     "output_type": "stream",
     "text": [
      "<class 'tensorflow.python.framework.ops.Tensor'>\n",
      "<class 'numpy.float32'>\n",
      "Validation Error: 0.149399995804\n",
      "<class 'tensorflow.python.framework.ops.Tensor'>\n",
      "<class 'numpy.float32'>\n",
      "Validation Error: 0.129599988461\n",
      "<class 'tensorflow.python.framework.ops.Tensor'>\n",
      "<class 'numpy.float32'>\n",
      "Validation Error: 0.120400011539\n",
      "<class 'tensorflow.python.framework.ops.Tensor'>\n",
      "<class 'numpy.float32'>\n",
      "Validation Error: 0.114799976349\n",
      "<class 'tensorflow.python.framework.ops.Tensor'>\n",
      "<class 'numpy.float32'>\n",
      "Validation Error: 0.109799981117\n",
      "<class 'tensorflow.python.framework.ops.Tensor'>\n",
      "<class 'numpy.float32'>\n",
      "Validation Error: 0.107400000095\n",
      "<class 'tensorflow.python.framework.ops.Tensor'>\n",
      "<class 'numpy.float32'>\n",
      "Validation Error: 0.104399979115\n",
      "<class 'tensorflow.python.framework.ops.Tensor'>\n",
      "<class 'numpy.float32'>\n",
      "Validation Error: 0.102199971676\n",
      "<class 'tensorflow.python.framework.ops.Tensor'>\n",
      "<class 'numpy.float32'>\n",
      "Validation Error: 0.101599991322\n",
      "<class 'tensorflow.python.framework.ops.Tensor'>\n",
      "<class 'numpy.float32'>\n",
      "Validation Error: 0.0989999771118\n",
      "<class 'tensorflow.python.framework.ops.Tensor'>\n",
      "<class 'numpy.float32'>\n",
      "Validation Error: 0.0974000096321\n",
      "<class 'tensorflow.python.framework.ops.Tensor'>\n",
      "<class 'numpy.float32'>\n",
      "Validation Error: 0.0957999825478\n",
      "<class 'tensorflow.python.framework.ops.Tensor'>\n",
      "<class 'numpy.float32'>\n",
      "Validation Error: 0.0942000150681\n",
      "<class 'tensorflow.python.framework.ops.Tensor'>\n",
      "<class 'numpy.float32'>\n",
      "Validation Error: 0.0921999812126\n",
      "<class 'tensorflow.python.framework.ops.Tensor'>\n",
      "<class 'numpy.float32'>\n",
      "Validation Error: 0.0916000008583\n",
      "<class 'tensorflow.python.framework.ops.Tensor'>\n",
      "<class 'numpy.float32'>\n",
      "Validation Error: 0.091000020504\n",
      "<class 'tensorflow.python.framework.ops.Tensor'>\n",
      "<class 'numpy.float32'>\n",
      "Validation Error: 0.0898000001907\n",
      "<class 'tensorflow.python.framework.ops.Tensor'>\n",
      "<class 'numpy.float32'>\n",
      "Validation Error: 0.0896000266075\n",
      "<class 'tensorflow.python.framework.ops.Tensor'>\n",
      "<class 'numpy.float32'>\n",
      "Validation Error: 0.087199985981\n",
      "<class 'tensorflow.python.framework.ops.Tensor'>\n",
      "<class 'numpy.float32'>\n",
      "Validation Error: 0.0885999798775\n",
      "<class 'tensorflow.python.framework.ops.Tensor'>\n",
      "<class 'numpy.float32'>\n",
      "Validation Error: 0.0878000259399\n",
      "<class 'tensorflow.python.framework.ops.Tensor'>\n",
      "<class 'numpy.float32'>\n",
      "Validation Error: 0.0861999988556\n",
      "<class 'tensorflow.python.framework.ops.Tensor'>\n",
      "<class 'numpy.float32'>\n",
      "Validation Error: 0.087199985981\n",
      "<class 'tensorflow.python.framework.ops.Tensor'>\n",
      "<class 'numpy.float32'>\n",
      "Validation Error: 0.0856000185013\n",
      "<class 'tensorflow.python.framework.ops.Tensor'>\n",
      "<class 'numpy.float32'>\n",
      "Validation Error: 0.0845999717712\n",
      "<class 'tensorflow.python.framework.ops.Tensor'>\n",
      "<class 'numpy.float32'>\n",
      "Validation Error: 0.0848000049591\n",
      "<class 'tensorflow.python.framework.ops.Tensor'>\n",
      "<class 'numpy.float32'>\n",
      "Validation Error: 0.0845999717712\n",
      "<class 'tensorflow.python.framework.ops.Tensor'>\n",
      "<class 'numpy.float32'>\n",
      "Validation Error: 0.0845999717712\n",
      "<class 'tensorflow.python.framework.ops.Tensor'>\n",
      "<class 'numpy.float32'>\n",
      "Validation Error: 0.0835999846458\n",
      "<class 'tensorflow.python.framework.ops.Tensor'>\n",
      "<class 'numpy.float32'>\n",
      "Validation Error: 0.0849999785423\n",
      "<class 'tensorflow.python.framework.ops.Tensor'>\n",
      "<class 'numpy.float32'>\n",
      "Validation Error: 0.0849999785423\n",
      "<class 'tensorflow.python.framework.ops.Tensor'>\n",
      "<class 'numpy.float32'>\n",
      "Validation Error: 0.084399998188\n",
      "<class 'tensorflow.python.framework.ops.Tensor'>\n",
      "<class 'numpy.float32'>\n",
      "Validation Error: 0.0835999846458\n",
      "<class 'tensorflow.python.framework.ops.Tensor'>\n",
      "<class 'numpy.float32'>\n",
      "Validation Error: 0.0831999778748\n",
      "<class 'tensorflow.python.framework.ops.Tensor'>\n",
      "<class 'numpy.float32'>\n",
      "Validation Error: 0.0830000042915\n",
      "<class 'tensorflow.python.framework.ops.Tensor'>\n",
      "<class 'numpy.float32'>\n",
      "Validation Error: 0.0830000042915\n",
      "<class 'tensorflow.python.framework.ops.Tensor'>\n",
      "<class 'numpy.float32'>\n",
      "Validation Error: 0.0821999907494\n",
      "<class 'tensorflow.python.framework.ops.Tensor'>\n",
      "<class 'numpy.float32'>\n",
      "Validation Error: 0.0821999907494\n",
      "<class 'tensorflow.python.framework.ops.Tensor'>\n",
      "<class 'numpy.float32'>\n",
      "Validation Error: 0.0821999907494\n",
      "<class 'tensorflow.python.framework.ops.Tensor'>\n",
      "<class 'numpy.float32'>\n",
      "Validation Error: 0.0806000232697\n",
      "<class 'tensorflow.python.framework.ops.Tensor'>\n",
      "<class 'numpy.float32'>\n",
      "Validation Error: 0.081200003624\n",
      "<class 'tensorflow.python.framework.ops.Tensor'>\n",
      "<class 'numpy.float32'>\n",
      "Validation Error: 0.0807999968529\n",
      "<class 'tensorflow.python.framework.ops.Tensor'>\n",
      "<class 'numpy.float32'>\n",
      "Validation Error: 0.0813999772072\n",
      "<class 'tensorflow.python.framework.ops.Tensor'>\n",
      "<class 'numpy.float32'>\n",
      "Validation Error: 0.081200003624\n",
      "<class 'tensorflow.python.framework.ops.Tensor'>\n",
      "<class 'numpy.float32'>\n",
      "Validation Error: 0.0799999833107\n",
      "<class 'tensorflow.python.framework.ops.Tensor'>\n",
      "<class 'numpy.float32'>\n",
      "Validation Error: 0.0798000097275\n",
      "<class 'tensorflow.python.framework.ops.Tensor'>\n",
      "<class 'numpy.float32'>\n",
      "Validation Error: 0.0798000097275\n",
      "<class 'tensorflow.python.framework.ops.Tensor'>\n",
      "<class 'numpy.float32'>\n",
      "Validation Error: 0.0789999961853\n",
      "<class 'tensorflow.python.framework.ops.Tensor'>\n",
      "<class 'numpy.float32'>\n",
      "Validation Error: 0.0789999961853\n",
      "<class 'tensorflow.python.framework.ops.Tensor'>\n",
      "<class 'numpy.float32'>\n",
      "Validation Error: 0.0781999826431\n",
      "<class 'tensorflow.python.framework.ops.Tensor'>\n",
      "<class 'numpy.float32'>\n",
      "Validation Error: 0.0785999894142\n",
      "<class 'tensorflow.python.framework.ops.Tensor'>\n",
      "<class 'numpy.float32'>\n",
      "Validation Error: 0.078400015831\n",
      "<class 'tensorflow.python.framework.ops.Tensor'>\n",
      "<class 'numpy.float32'>\n",
      "Validation Error: 0.0780000090599\n",
      "<class 'tensorflow.python.framework.ops.Tensor'>\n",
      "<class 'numpy.float32'>\n",
      "Validation Error: 0.077799975872\n",
      "<class 'tensorflow.python.framework.ops.Tensor'>\n",
      "<class 'numpy.float32'>\n",
      "Validation Error: 0.0780000090599\n",
      "<class 'tensorflow.python.framework.ops.Tensor'>\n",
      "<class 'numpy.float32'>\n",
      "Validation Error: 0.0780000090599\n"
     ]
    }
   ],
   "source": [
    "with tf.Graph().as_default():\n",
    "    x = tf.placeholder(\"float\", [None, 784])\n",
    "    y = tf.placeholder(\"float\", [None, 10])\n",
    "    \n",
    "    output = inference(x)\n",
    "    cost = loss(output, y)\n",
    "    global_step = tf.Variable(0, name='global_step', trainable=False)\n",
    "    train_op = training(cost, global_step)\n",
    "    eval_op = evaluate(output, y)\n",
    "    summary_op = tf.merge_all_summaries()\n",
    "    saver = tf.train.Saver()\n",
    "    sess = tf.Session()\n",
    "    summary_writer = tf.train.SummaryWriter(\"logistic_logs/\", graph_def=sess.graph_def)\n",
    "    init_op = tf.initialize_all_variables()\n",
    "    sess.run(init_op)\n",
    "    \n",
    "    for epoch in range(train_epochs):\n",
    "        avg_cost = 0.0\n",
    "        total_batch = int(mnist.train.num_examples/batch_size)\n",
    "        for i in range(total_batch):\n",
    "            minibatch_x, minibatch_y = mnist.train.next_batch(batch_size)\n",
    "            feed_dict = {x : minibatch_x, y : minibatch_y}\n",
    "            sess.run(train_op, feed_dict = feed_dict)\n",
    "            minibatch_cost = sess.run(cost, feed_dict=feed_dict)\n",
    "            avg_cost += minibatch_cost/total_batch\n",
    "        if epoch % display_step == 0:\n",
    "            val_feed_dict = {\n",
    "                x : mnist.validation.images,\n",
    "                y : mnist.validation.labels\n",
    "            }\n",
    "            accuracy = sess.run(eval_op, feed_dict=val_feed_dict)\n",
    "            print(type(eval_op)) # Tensor\n",
    "            print(type(accuracy)) # numpy.data\n",
    "            print(\"Validation Error:\", (1 - accuracy))\n",
    "            summary_str = sess.run(summary_op, feed_dict=feed_dict)\n",
    "            summary_writer.add_summary(summary_str, sess.run(global_step))\n",
    "            saver.save(sess, \"logistic_logs/model-checkpoint\", global_step=global_step)\n",
    "    \n",
    "    print(\"optimization Finished!\")\n",
    "    \n",
    "    test_feed_dict = {\n",
    "        x : mnist.test.images,\n",
    "        y : mnist.test.labels\n",
    "    }\n",
    "    \n",
    "    accuracy = sess.run(eval_op, feed_dict=test_feed_dict)\n",
    "    print(\"Test Accuarcy:\", accuracy)"
   ]
  },
  {
   "cell_type": "code",
   "execution_count": null,
   "metadata": {
    "collapsed": true
   },
   "outputs": [],
   "source": []
  }
 ],
 "metadata": {
  "kernelspec": {
   "display_name": "Python 3",
   "language": "python",
   "name": "python3"
  },
  "language_info": {
   "codemirror_mode": {
    "name": "ipython",
    "version": 3
   },
   "file_extension": ".py",
   "mimetype": "text/x-python",
   "name": "python",
   "nbconvert_exporter": "python",
   "pygments_lexer": "ipython3",
   "version": "3.4.3"
  }
 },
 "nbformat": 4,
 "nbformat_minor": 0
}
